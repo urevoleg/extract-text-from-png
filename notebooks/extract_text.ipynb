{
 "cells": [
  {
   "cell_type": "markdown",
   "metadata": {},
   "source": [
    "## Извлечение текста из png"
   ]
  },
  {
   "cell_type": "code",
   "execution_count": 73,
   "metadata": {},
   "outputs": [],
   "source": [
    "# базовые библиотеки\n",
    "import re\n",
    "import os\n",
    "import time\n",
    "from collections import defaultdict\n",
    "\n",
    "import numpy as np\n",
    "import pandas as pd\n",
    "\n",
    "from PIL import Image\n",
    "from pytesseract import pytesseract\n",
    "\n",
    "from pathlib import Path\n",
    "DIR_HOME = str(Path.home())\n",
    "\n",
    "import warnings\n",
    "warnings.filterwarnings('ignore')\n",
    "\n",
    "\n",
    "pd.options.display.float_format = '{:.3f}'.format\n",
    "%matplotlib inline"
   ]
  },
  {
   "cell_type": "code",
   "execution_count": 74,
   "outputs": [],
   "source": [
    "img_path = \"/home/urev/projects/trash/src/IOG-some-data-samples-2/DIK-yola-2011/DIK-yola20110606104900.png\""
   ],
   "metadata": {
    "collapsed": false
   }
  },
  {
   "cell_type": "code",
   "execution_count": 80,
   "outputs": [],
   "source": [
    "def extract_text_from_img(img_path=None):\n",
    "    #Define path to tessaract.exe\n",
    "    path_to_tesseract = r'/usr/bin/tesseract'\n",
    "\n",
    "    #Point tessaract_cmd to tessaract.exe\n",
    "    pytesseract.tesseract_cmd = path_to_tesseract\n",
    "    #Open image with PIL\n",
    "    img = Image.open(img_path)\n",
    "    #Extract text from image\n",
    "    text = pytesseract.image_to_string(img, lang='rus+eng')\n",
    "    return text.split('\\n')[:3], img\n",
    "\n",
    "\n",
    "def crop_metadata(img=None):\n",
    "    w, h = img.size\n",
    "    return {\n",
    "        'spectrogramm': img.crop((44, 39, w-54, h-101)),\n",
    "        'metadata': img.crop((0, 0, w, 39))\n",
    "    }\n",
    "\n",
    "\n",
    "def save_img(img=None, path=None):\n",
    "    img.save(fp=os.path.join(\"/home/urev/projects/trash/src/output\", path), format='png')"
   ],
   "metadata": {
    "collapsed": false
   }
  },
  {
   "cell_type": "code",
   "execution_count": 82,
   "outputs": [],
   "source": [
    "root = '/home/urev/projects/trash/src/IOG-some-data-samples-2'\n",
    "folder = 'DIK-yola-2011'\n",
    "output_path = \"/home/urev/projects/trash/src/output\"\n",
    "#os.makedirs(os.path.join(output_path, folder))\n",
    "\n",
    "for file in os.listdir(os.path.join(root, folder)):\n",
    "    abs_path = os.path.join(root, folder, file)\n",
    "    text, img = extract_text_from_img(img_path=abs_path)\n",
    "    crops_img = crop_metadata(img=img)\n",
    "\n",
    "    for k, v in crops_img.items():\n",
    "        save_img(img=v, path=os.path.join(output_path, folder, f\"{file}_{k}.png\"))"
   ],
   "metadata": {
    "collapsed": false
   }
  },
  {
   "cell_type": "code",
   "execution_count": 81,
   "outputs": [],
   "source": [],
   "metadata": {
    "collapsed": false
   }
  },
  {
   "cell_type": "code",
   "execution_count": null,
   "outputs": [],
   "source": [],
   "metadata": {
    "collapsed": false
   }
  },
  {
   "cell_type": "code",
   "execution_count": null,
   "outputs": [],
   "source": [],
   "metadata": {
    "collapsed": false
   }
  },
  {
   "cell_type": "code",
   "execution_count": null,
   "outputs": [],
   "source": [],
   "metadata": {
    "collapsed": false
   }
  }
 ],
 "metadata": {
  "kernelspec": {
   "display_name": "Python 3",
   "language": "python",
   "name": "python3"
  },
  "language_info": {
   "codemirror_mode": {
    "name": "ipython",
    "version": 3
   },
   "file_extension": ".py",
   "mimetype": "text/x-python",
   "name": "python",
   "nbconvert_exporter": "python",
   "pygments_lexer": "ipython3",
   "version": "3.7.5"
  }
 },
 "nbformat": 4,
 "nbformat_minor": 2
}
